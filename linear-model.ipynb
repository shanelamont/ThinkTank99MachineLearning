{
 "cells": [
  {
   "cell_type": "markdown",
   "metadata": {},
   "source": [
    "# Linear Model"
   ]
  },
  {
   "cell_type": "code",
   "execution_count": 1,
   "metadata": {
    "collapsed": false
   },
   "outputs": [
    {
     "name": "stderr",
     "output_type": "stream",
     "text": [
      "Copying gs://shane-bq-export/300k_export.csv...\n",
      "/ [0 files][    0.0 B/ 16.4 MiB]                                                \r",
      "/ [1 files][ 16.4 MiB/ 16.4 MiB]                                                \r\n",
      "Operation completed over 1 objects/16.4 MiB.                                     \n"
     ]
    }
   ],
   "source": [
    "%%bash\n",
    "gsutil cp gs://shane-bq-export/300k_export.csv ."
   ]
  },
  {
   "cell_type": "code",
   "execution_count": 2,
   "metadata": {
    "collapsed": true
   },
   "outputs": [],
   "source": [
    "import tempfile\n",
    "import pandas as pd\n",
    "import tensorflow as tf"
   ]
  },
  {
   "cell_type": "code",
   "execution_count": 3,
   "metadata": {
    "collapsed": false
   },
   "outputs": [],
   "source": [
    "df = pd.read_csv('300k_export.csv')"
   ]
  },
  {
   "cell_type": "code",
   "execution_count": 4,
   "metadata": {
    "collapsed": false
   },
   "outputs": [
    {
     "data": {
      "text/html": [
       "<div>\n",
       "<table border=\"1\" class=\"dataframe\">\n",
       "  <thead>\n",
       "    <tr style=\"text-align: right;\">\n",
       "      <th></th>\n",
       "      <th>CustName</th>\n",
       "      <th>Segment</th>\n",
       "      <th>Account</th>\n",
       "      <th>TxDate</th>\n",
       "      <th>TxProduct</th>\n",
       "      <th>TxType</th>\n",
       "      <th>TxValue</th>\n",
       "    </tr>\n",
       "  </thead>\n",
       "  <tbody>\n",
       "    <tr>\n",
       "      <th>0</th>\n",
       "      <td>C00000000</td>\n",
       "      <td>LowVolHighVal</td>\n",
       "      <td>Current</td>\n",
       "      <td>2015-06-30 00:00:00 UTC</td>\n",
       "      <td>Cash</td>\n",
       "      <td>DB</td>\n",
       "      <td>122196</td>\n",
       "    </tr>\n",
       "    <tr>\n",
       "      <th>1</th>\n",
       "      <td>C00000000</td>\n",
       "      <td>LowVolHighVal</td>\n",
       "      <td>Current</td>\n",
       "      <td>2015-06-30 00:00:00 UTC</td>\n",
       "      <td>Cash</td>\n",
       "      <td>CR</td>\n",
       "      <td>110389</td>\n",
       "    </tr>\n",
       "    <tr>\n",
       "      <th>2</th>\n",
       "      <td>C00000000</td>\n",
       "      <td>LowVolHighVal</td>\n",
       "      <td>Current</td>\n",
       "      <td>2015-06-30 00:00:00 UTC</td>\n",
       "      <td>Cash</td>\n",
       "      <td>CR</td>\n",
       "      <td>131852</td>\n",
       "    </tr>\n",
       "    <tr>\n",
       "      <th>3</th>\n",
       "      <td>C00000001</td>\n",
       "      <td>HighVolLowVal</td>\n",
       "      <td>Current</td>\n",
       "      <td>2015-06-30 00:00:00 UTC</td>\n",
       "      <td>Cash</td>\n",
       "      <td>CR</td>\n",
       "      <td>44</td>\n",
       "    </tr>\n",
       "    <tr>\n",
       "      <th>4</th>\n",
       "      <td>C00000001</td>\n",
       "      <td>HighVolLowVal</td>\n",
       "      <td>Current</td>\n",
       "      <td>2015-06-30 00:00:00 UTC</td>\n",
       "      <td>Cash</td>\n",
       "      <td>DB</td>\n",
       "      <td>35</td>\n",
       "    </tr>\n",
       "  </tbody>\n",
       "</table>\n",
       "</div>"
      ],
      "text/plain": [
       "    CustName        Segment  Account                   TxDate TxProduct  \\\n",
       "0  C00000000  LowVolHighVal  Current  2015-06-30 00:00:00 UTC      Cash   \n",
       "1  C00000000  LowVolHighVal  Current  2015-06-30 00:00:00 UTC      Cash   \n",
       "2  C00000000  LowVolHighVal  Current  2015-06-30 00:00:00 UTC      Cash   \n",
       "3  C00000001  HighVolLowVal  Current  2015-06-30 00:00:00 UTC      Cash   \n",
       "4  C00000001  HighVolLowVal  Current  2015-06-30 00:00:00 UTC      Cash   \n",
       "\n",
       "  TxType  TxValue  \n",
       "0     DB   122196  \n",
       "1     CR   110389  \n",
       "2     CR   131852  \n",
       "3     CR       44  \n",
       "4     DB       35  "
      ]
     },
     "execution_count": 4,
     "metadata": {},
     "output_type": "execute_result"
    }
   ],
   "source": [
    "df.head()"
   ]
  },
  {
   "cell_type": "code",
   "execution_count": 5,
   "metadata": {
    "collapsed": false
   },
   "outputs": [],
   "source": [
    "LABEL_COLUMN = \"Label\"\n",
    "CATEGORICAL_COLUMNS = [\"TxProduct\", \"TxType\", \"Account\"]\n",
    "CONTINUOUS_COLUMNS = [\"TxValue\"]"
   ]
  },
  {
   "cell_type": "code",
   "execution_count": 6,
   "metadata": {
    "collapsed": true
   },
   "outputs": [],
   "source": [
    "df[LABEL_COLUMN] = (\n",
    "    df[\"Segment\"].apply(lambda x: \"Retail\" in x)).astype(int)\n",
    "\n",
    "training_data = df[df.TxDate != '2015-12-31 00:00:00 UTC']\n",
    "test_data = df[df.TxDate == '2015-12-31 00:00:00 UTC']"
   ]
  },
  {
   "cell_type": "code",
   "execution_count": 7,
   "metadata": {
    "collapsed": false
   },
   "outputs": [
    {
     "data": {
      "text/html": [
       "<div>\n",
       "<table border=\"1\" class=\"dataframe\">\n",
       "  <thead>\n",
       "    <tr style=\"text-align: right;\">\n",
       "      <th></th>\n",
       "      <th>CustName</th>\n",
       "      <th>Segment</th>\n",
       "      <th>Account</th>\n",
       "      <th>TxDate</th>\n",
       "      <th>TxProduct</th>\n",
       "      <th>TxType</th>\n",
       "      <th>TxValue</th>\n",
       "      <th>Label</th>\n",
       "    </tr>\n",
       "  </thead>\n",
       "  <tbody>\n",
       "    <tr>\n",
       "      <th>0</th>\n",
       "      <td>C00000000</td>\n",
       "      <td>LowVolHighVal</td>\n",
       "      <td>Current</td>\n",
       "      <td>2015-06-30 00:00:00 UTC</td>\n",
       "      <td>Cash</td>\n",
       "      <td>DB</td>\n",
       "      <td>122196</td>\n",
       "      <td>0</td>\n",
       "    </tr>\n",
       "    <tr>\n",
       "      <th>1</th>\n",
       "      <td>C00000000</td>\n",
       "      <td>LowVolHighVal</td>\n",
       "      <td>Current</td>\n",
       "      <td>2015-06-30 00:00:00 UTC</td>\n",
       "      <td>Cash</td>\n",
       "      <td>CR</td>\n",
       "      <td>110389</td>\n",
       "      <td>0</td>\n",
       "    </tr>\n",
       "    <tr>\n",
       "      <th>2</th>\n",
       "      <td>C00000000</td>\n",
       "      <td>LowVolHighVal</td>\n",
       "      <td>Current</td>\n",
       "      <td>2015-06-30 00:00:00 UTC</td>\n",
       "      <td>Cash</td>\n",
       "      <td>CR</td>\n",
       "      <td>131852</td>\n",
       "      <td>0</td>\n",
       "    </tr>\n",
       "    <tr>\n",
       "      <th>3</th>\n",
       "      <td>C00000001</td>\n",
       "      <td>HighVolLowVal</td>\n",
       "      <td>Current</td>\n",
       "      <td>2015-06-30 00:00:00 UTC</td>\n",
       "      <td>Cash</td>\n",
       "      <td>CR</td>\n",
       "      <td>44</td>\n",
       "      <td>0</td>\n",
       "    </tr>\n",
       "    <tr>\n",
       "      <th>4</th>\n",
       "      <td>C00000001</td>\n",
       "      <td>HighVolLowVal</td>\n",
       "      <td>Current</td>\n",
       "      <td>2015-06-30 00:00:00 UTC</td>\n",
       "      <td>Cash</td>\n",
       "      <td>DB</td>\n",
       "      <td>35</td>\n",
       "      <td>0</td>\n",
       "    </tr>\n",
       "  </tbody>\n",
       "</table>\n",
       "</div>"
      ],
      "text/plain": [
       "    CustName        Segment  Account                   TxDate TxProduct  \\\n",
       "0  C00000000  LowVolHighVal  Current  2015-06-30 00:00:00 UTC      Cash   \n",
       "1  C00000000  LowVolHighVal  Current  2015-06-30 00:00:00 UTC      Cash   \n",
       "2  C00000000  LowVolHighVal  Current  2015-06-30 00:00:00 UTC      Cash   \n",
       "3  C00000001  HighVolLowVal  Current  2015-06-30 00:00:00 UTC      Cash   \n",
       "4  C00000001  HighVolLowVal  Current  2015-06-30 00:00:00 UTC      Cash   \n",
       "\n",
       "  TxType  TxValue  Label  \n",
       "0     DB   122196      0  \n",
       "1     CR   110389      0  \n",
       "2     CR   131852      0  \n",
       "3     CR       44      0  \n",
       "4     DB       35      0  "
      ]
     },
     "execution_count": 7,
     "metadata": {},
     "output_type": "execute_result"
    }
   ],
   "source": [
    "training_data.head()"
   ]
  },
  {
   "cell_type": "code",
   "execution_count": 8,
   "metadata": {
    "collapsed": false
   },
   "outputs": [
    {
     "name": "stdout",
     "output_type": "stream",
     "text": [
      "model directory = /tmp/tmpDcLsbl\n"
     ]
    }
   ],
   "source": [
    "model_dir = tempfile.mkdtemp()\n",
    "print(\"model directory = %s\" % model_dir)"
   ]
  },
  {
   "cell_type": "code",
   "execution_count": 9,
   "metadata": {
    "collapsed": false
   },
   "outputs": [
    {
     "name": "stderr",
     "output_type": "stream",
     "text": [
      "WARNING:tensorflow:The default value of combiner will change from \"sum\" to \"sqrtn\" after 2016/11/01.\n",
      "WARNING:tensorflow:The default value of combiner will change from \"sum\" to \"sqrtn\" after 2016/11/01.\n",
      "WARNING:tensorflow:The default value of combiner will change from \"sum\" to \"sqrtn\" after 2016/11/01.\n"
     ]
    }
   ],
   "source": [
    "TxType = tf.contrib.layers.sparse_column_with_keys(column_name=\"TxType\", keys=[\"CR\", \"DB\"])\n",
    "TxProduct = tf.contrib.layers.sparse_column_with_hash_bucket(\"TxProduct\", hash_bucket_size=1024)\n",
    "Account = tf.contrib.layers.sparse_column_with_hash_bucket(\"Account\", hash_bucket_size=1024)\n",
    "TxValue  = tf.contrib.layers.real_valued_column(\"TxValue\")\n",
    "wide_columns = [TxType, TxProduct, Account, TxValue]"
   ]
  },
  {
   "cell_type": "code",
   "execution_count": 10,
   "metadata": {
    "collapsed": false
   },
   "outputs": [],
   "source": [
    "def input_fn(df):\n",
    "  continuous_cols = {k: tf.constant(df[k].values) for k in CONTINUOUS_COLUMNS}\n",
    "  categorical_cols = {k: tf.SparseTensor(\n",
    "      indices=[[i, 0] for i in range(df[k].size)],\n",
    "      values=df[k].values,\n",
    "      shape=[df[k].size, 1])\n",
    "                      for k in CATEGORICAL_COLUMNS}\n",
    "  feature_cols = dict(continuous_cols)\n",
    "  feature_cols.update(categorical_cols)\n",
    "  label = tf.constant(df[LABEL_COLUMN].values)\n",
    "  \n",
    "  print(feature_cols)\n",
    "  print(label)\n",
    "  \n",
    "  return feature_cols, label"
   ]
  },
  {
   "cell_type": "code",
   "execution_count": 11,
   "metadata": {
    "collapsed": false
   },
   "outputs": [
    {
     "name": "stderr",
     "output_type": "stream",
     "text": [
      "WARNING:tensorflow:Change warning: default value of `enable_centered_bias` will change after 2016-10-09. It will be disabled by default.Instructions for keeping existing behaviour:\n",
      "Explicitly set `enable_centered_bias` to 'True' if you want to keep existing behaviour.\n",
      "WARNING:tensorflow:Using default config.\n",
      "WARNING:tensorflow:tf.variable_op_scope(values, name, default_name) is deprecated, use tf.variable_scope(name, default_name, values)\n"
     ]
    },
    {
     "name": "stdout",
     "output_type": "stream",
     "text": [
      "{'TxValue': <tf.Tensor 'Const:0' shape=(253623,) dtype=int64>, 'TxProduct': <tensorflow.python.framework.ops.SparseTensor object at 0x7f5bd286cd10>, 'TxType': <tensorflow.python.framework.ops.SparseTensor object at 0x7f5bd2880790>, 'Account': <tensorflow.python.framework.ops.SparseTensor object at 0x7f5b99107cd0>}\n",
      "Tensor(\"Const_1:0\", shape=(253623,), dtype=int64)\n"
     ]
    },
    {
     "name": "stderr",
     "output_type": "stream",
     "text": [
      "WARNING:tensorflow:Given features: {'TxValue': <tf.Tensor 'Const:0' shape=(22717,) dtype=int64>, 'TxProduct': <tensorflow.python.framework.ops.SparseTensor object at 0x7f5bd2880790>, 'TxType': <tensorflow.python.framework.ops.SparseTensor object at 0x7f5b91707750>, 'Account': <tensorflow.python.framework.ops.SparseTensor object at 0x7f5b9178d7d0>}, required signatures: {'TxValue': TensorSignature(dtype=tf.int64, shape=TensorShape([Dimension(253623)]), is_sparse=False), 'TxProduct': TensorSignature(dtype=tf.string, shape=None, is_sparse=True), 'TxType': TensorSignature(dtype=tf.string, shape=None, is_sparse=True), 'Account': TensorSignature(dtype=tf.string, shape=None, is_sparse=True)}.\n",
      "WARNING:tensorflow:Given targets: Tensor(\"Const_1:0\", shape=(22717,), dtype=int64), required signatures: TensorSignature(dtype=tf.int64, shape=TensorShape([Dimension(253623)]), is_sparse=False).\n",
      "WARNING:tensorflow:tf.variable_op_scope(values, name, default_name) is deprecated, use tf.variable_scope(name, default_name, values)\n"
     ]
    },
    {
     "name": "stdout",
     "output_type": "stream",
     "text": [
      "{'TxValue': <tf.Tensor 'Const:0' shape=(22717,) dtype=int64>, 'TxProduct': <tensorflow.python.framework.ops.SparseTensor object at 0x7f5bd2880790>, 'TxType': <tensorflow.python.framework.ops.SparseTensor object at 0x7f5b91707750>, 'Account': <tensorflow.python.framework.ops.SparseTensor object at 0x7f5b9178d7d0>}\n",
      "Tensor(\"Const_1:0\", shape=(22717,), dtype=int64)\n",
      "accuracy: 0.951094\n",
      "accuracy/baseline_target_mean: 0.293701\n",
      "accuracy/threshold_0.500000_mean: 0.951094\n",
      "auc: 0.942664\n",
      "global_step: 200\n",
      "labels/actual_target_mean: 0.293701\n",
      "labels/prediction_mean: 0.280474\n",
      "loss: 2.1154\n",
      "precision/positive_threshold_0.500000_mean: 0.896591\n",
      "recall/positive_threshold_0.500000_mean: 0.942146\n"
     ]
    }
   ],
   "source": [
    "m = tf.contrib.learn.LinearClassifier(model_dir=model_dir, feature_columns=wide_columns)\n",
    "\n",
    "m.fit(input_fn=lambda: input_fn(training_data), steps=200)\n",
    "results = m.evaluate(input_fn=lambda: input_fn(test_data), steps=1)\n",
    "for key in sorted(results):\n",
    "  print(\"%s: %s\" % (key, results[key]))"
   ]
  }
 ],
 "metadata": {
  "kernelspec": {
   "display_name": "Python 2",
   "language": "python",
   "name": "python2"
  },
  "language_info": {
   "codemirror_mode": {
    "name": "ipython",
    "version": 2
   },
   "file_extension": ".py",
   "mimetype": "text/x-python",
   "name": "python",
   "nbconvert_exporter": "python",
   "pygments_lexer": "ipython2",
   "version": "2.7.9"
  }
 },
 "nbformat": 4,
 "nbformat_minor": 1
}
